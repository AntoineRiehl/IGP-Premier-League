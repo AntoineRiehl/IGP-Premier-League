{
 "cells": [
  {
   "cell_type": "code",
   "execution_count": null,
   "id": "9043500d-f34a-456d-aba1-22dd83931e04",
   "metadata": {},
   "outputs": [],
   "source": [
    "import pandas as pd\n",
    "import os\n",
    "\n",
    "#Defining folder path and initialising list to append all datasets\n",
    "folder_path = \"../All Datasets Folder\"  \n",
    "dfs = []\n",
    "\n",
    "#Finding the correct document in our folder, and joining its path to the folder path\n",
    "for year in range(1993, 2025):\n",
    "    next_year = year + 1\n",
    "    file_name = f\"season_{year}-{next_year}.csv\" \n",
    "    file_path = os.path.join(folder_path, file_name)\n",
    "    \n",
    "    #Loading the file into a pandas dataframe and appending it to our list\n",
    "    df = pd.read_csv(file_path)\n",
    "    dfs.append(df)\n",
    "\n",
    "#Linking all datasets together and saving the resulting file \n",
    "all_matches_df = pd.concat(dfs, ignore_index=True)\n",
    "output_file = os.path.join(folder_path, \"all_seasons_premier_league_data.xlsx\")\n",
    "all_matches_df.to_excel(output_file, index=False)"
   ]
  }
 ],
 "metadata": {
  "kernelspec": {
   "display_name": "Python [conda env:base] *",
   "language": "python",
   "name": "conda-base-py"
  },
  "language_info": {
   "codemirror_mode": {
    "name": "ipython",
    "version": 3
   },
   "file_extension": ".py",
   "mimetype": "text/x-python",
   "name": "python",
   "nbconvert_exporter": "python",
   "pygments_lexer": "ipython3",
   "version": "3.12.7"
  }
 },
 "nbformat": 4,
 "nbformat_minor": 5
}
