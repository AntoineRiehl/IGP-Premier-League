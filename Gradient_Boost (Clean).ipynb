{
 "cells": [
  {
   "cell_type": "code",
   "execution_count": 1,
   "id": "1697ae75-0b9c-40be-8e25-e10eaec5dee8",
   "metadata": {},
   "outputs": [],
   "source": [
    "import pandas as pd\n",
    "import numpy as np\n",
    "from sklearn.model_selection import train_test_split\n",
    "from sklearn.model_selection import train_test_split\n",
    "from sklearn.ensemble import GradientBoostingRegressor\n",
    "from sklearn.metrics import mean_absolute_error, mean_squared_error\n",
    "from scipy.stats import spearmanr"
   ]
  },
  {
   "cell_type": "code",
   "execution_count": 2,
   "id": "1f8eb006-499e-403e-864f-c47b842712ee",
   "metadata": {},
   "outputs": [],
   "source": [
    "path = \"../\"  "
   ]
  },
  {
   "cell_type": "code",
   "execution_count": 3,
   "id": "caaae43f-c587-4860-aeaa-36c737c10180",
   "metadata": {},
   "outputs": [
    {
     "name": "stdout",
     "output_type": "stream",
     "text": [
      "Mean Absolute Error (MAE): 1.7139460396755966\n",
      "Mean Squared Error (MSE): 5.138745450263321\n",
      "Spearman Rank Correlation: 0.9244591970187854\n",
      "            Team  Actual Rank  Predicted Rank\n",
      "561  Southampton           12       13.889242\n",
      "617    Liverpool            3        1.759068\n",
      "325  Aston Villa            6        5.217353\n",
      "589  Bournemouth           15       18.967236\n",
      "441    Tottenham            5        6.945158\n",
      "..           ...          ...             ...\n",
      "362        Wigan           16       15.559349\n",
      "536    Newcastle           14       14.072451\n",
      "465  Bournemouth            8       12.920306\n",
      "478   Sunderland           20       18.336823\n",
      "270      Everton            6        5.806789\n",
      "\n",
      "[97 rows x 3 columns]\n"
     ]
    },
    {
     "name": "stderr",
     "output_type": "stream",
     "text": [
      "C:\\Users\\antoi\\AppData\\Local\\Temp\\ipykernel_14100\\2216012674.py:13: FutureWarning: Downcasting behavior in `replace` is deprecated and will be removed in a future version. To retain the old behavior, explicitly call `result.infer_objects(copy=False)`. To opt-in to the future behavior, set `pd.set_option('future.no_silent_downcasting', True)`\n",
      "  X.replace('NAN', np.nan, inplace=True)\n",
      "C:\\Users\\antoi\\AppData\\Local\\Temp\\ipykernel_14100\\2216012674.py:13: SettingWithCopyWarning: \n",
      "A value is trying to be set on a copy of a slice from a DataFrame\n",
      "\n",
      "See the caveats in the documentation: https://pandas.pydata.org/pandas-docs/stable/user_guide/indexing.html#returning-a-view-versus-a-copy\n",
      "  X.replace('NAN', np.nan, inplace=True)\n"
     ]
    }
   ],
   "source": [
    "#Loading the Season Summary sheet into a pandas dataframe\n",
    "file_path = path + \"Premier League Data Analysis.xlsx\"\n",
    "season_summary_df = pd.read_excel(file_path, sheet_name=\"Season Summary\")\n",
    "\n",
    "#Selecting relevant features and target variable (Rank)\n",
    "features = ['Goal_Difference', 'ShotOnTarget/Shots', 'Avg_Yellow_Cards/Game', 'Avg_Red_Cards/Game', 'Home_Win_Leading_HT(%)', 'Away_Win_Leading_HT(%)', 'Home_Win_Draw_HT(%)',\n",
    "           'Away_Win_Draw_HT(%)', 'Home_Win_Losing_HT(%)', 'Away_Win_Losing_HT(%)', 'Manager Changes', 'Caretaker Days', 'Total_Corners']\n",
    "\n",
    "X = season_summary_df[features]\n",
    "y = season_summary_df['Rank']\n",
    "\n",
    "#Replacing 'NAN' string with actual NaN values\n",
    "X.replace('NAN', np.nan, inplace=True)\n",
    "\n",
    "#Dropping rows with NaN values\n",
    "X_clean = X.dropna()\n",
    "y_clean = y[X_clean.index]  #Ensuring the target variable corresponds to the rows in X_clean\n",
    "\n",
    "#Train-test split\n",
    "X_train, X_test, y_train, y_test = train_test_split(X_clean, y_clean, test_size=0.2, random_state=42)\n",
    "\n",
    "#Initialising and training the model (Gradient Boosting Regressor)\n",
    "model = GradientBoostingRegressor(n_estimators=100, random_state=42)\n",
    "model.fit(X_train, y_train)\n",
    "\n",
    "#Making predictions and evaluating the model\n",
    "y_pred = model.predict(X_test)\n",
    "mae = mean_absolute_error(y_test, y_pred)\n",
    "mse = mean_squared_error(y_test, y_pred)\n",
    "spearman_corr, _ = spearmanr(y_test, y_pred)\n",
    "print(f\"Mean Absolute Error (MAE): {mae}\")\n",
    "print(f\"Mean Squared Error (MSE): {mse}\")\n",
    "print(f\"Spearman Rank Correlation: {spearman_corr}\")\n",
    "\n",
    "#Predicting and viewing rankings for the test set\n",
    "predicted_ranks = pd.DataFrame({\n",
    "    'Team': season_summary_df.loc[X_test.index, 'Team'],\n",
    "    'Actual Rank': y_test,\n",
    "    'Predicted Rank': y_pred\n",
    "})\n",
    "print(predicted_ranks)\n"
   ]
  },
  {
   "cell_type": "code",
   "execution_count": 4,
   "id": "bb9e689b-28b1-4861-a08b-ba4d90642cc6",
   "metadata": {},
   "outputs": [],
   "source": [
    "#Loading the 2024-2025 season data\n",
    "season_2025_df = pd.read_excel(file_path, sheet_name=\"Partial Data\")\n",
    "\n",
    "#Predicting ranks for 2024-2025 season using the trained model\n",
    "X_2025 = season_2025_df[features] \n",
    "predicted_ranks = model.predict(X_2025)  # Use your trained model here\n",
    "\n",
    "#Adding the predicted ranks to the dataframe\n",
    "season_2025_df['Predicted_Rank'] = predicted_ranks"
   ]
  },
  {
   "cell_type": "code",
   "execution_count": 5,
   "id": "bc2b9a4d-01c6-440b-b098-4a4d669663e2",
   "metadata": {},
   "outputs": [
    {
     "name": "stdout",
     "output_type": "stream",
     "text": [
      "          Team  Predicted_Rank\n",
      "     Liverpool        3.169544\n",
      "       Arsenal        3.644066\n",
      "      Man City        4.414721\n",
      "       Chelsea        4.715249\n",
      "   Bournemouth        6.146448\n",
      "     Newcastle        8.155845\n",
      "     Tottenham        8.272617\n",
      " Nott'm Forest        8.721764\n",
      "     Brentford        9.455386\n",
      "        Fulham       10.329686\n",
      "      Brighton       11.286386\n",
      "   Aston Villa       11.305382\n",
      "Crystal Palace       13.745264\n",
      "    Man United       14.453913\n",
      "      West Ham       14.777999\n",
      "       Everton       15.228723\n",
      "        Wolves       17.801841\n",
      "     Leicester       18.167872\n",
      "       Ipswich       19.498921\n",
      "   Southampton       20.557718\n"
     ]
    }
   ],
   "source": [
    "#Sorting the dataframe by 'Predicted_Rank' from lowest to highest\n",
    "sorted_df = season_2025_df[['Team', 'Predicted_Rank']].sort_values(by='Predicted_Rank')\n",
    "\n",
    "#Displaying the sorted dataframe\n",
    "print(sorted_df.to_string(index=False))"
   ]
  }
 ],
 "metadata": {
  "kernelspec": {
   "display_name": "Python [conda env:base] *",
   "language": "python",
   "name": "conda-base-py"
  },
  "language_info": {
   "codemirror_mode": {
    "name": "ipython",
    "version": 3
   },
   "file_extension": ".py",
   "mimetype": "text/x-python",
   "name": "python",
   "nbconvert_exporter": "python",
   "pygments_lexer": "ipython3",
   "version": "3.12.7"
  }
 },
 "nbformat": 4,
 "nbformat_minor": 5
}
