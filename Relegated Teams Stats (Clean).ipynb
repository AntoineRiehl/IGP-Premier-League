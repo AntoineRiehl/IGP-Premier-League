{
 "cells": [
  {
   "cell_type": "code",
   "execution_count": 4,
   "id": "5608c464-1b85-41bb-a0d3-8d5950f31969",
   "metadata": {},
   "outputs": [],
   "source": [
    "import pandas as pd\n",
    "\n",
    "#Setting path and loading dataset into a pandas dataframe\n",
    "path = \"../\"\n",
    "Season_Summary = pd.read_excel(path + \"Premier League Promotion Analysis.xlsx\", sheet_name= \"Season Summary\")"
   ]
  },
  {
   "cell_type": "code",
   "execution_count": 8,
   "id": "ad74b214-311d-49af-a9df-1cb972847519",
   "metadata": {},
   "outputs": [
    {
     "name": "stdout",
     "output_type": "stream",
     "text": [
      "        Season              Team  Total_Matches  Total_Wins  Total_Draws  \\\n",
      "13   1993-1994            Oldham             42           9           13   \n",
      "15   1993-1994  Sheffield United             42           8           18   \n",
      "18   1993-1994           Swindon             42           5           15   \n",
      "27   1994-1995    Crystal Palace             42          11           12   \n",
      "29   1994-1995           Ipswich             42           7            6   \n",
      "..         ...               ...            ...         ...          ...   \n",
      "597  2022-2023         Leicester             38           9            7   \n",
      "603  2022-2023       Southampton             38           6            7   \n",
      "612  2023-2024           Burnley             38           5            9   \n",
      "618  2023-2024             Luton             38           6            8   \n",
      "623  2023-2024  Sheffield United             38           3            7   \n",
      "\n",
      "     Total_Losses  Total_Goals_For  Total_Goals_Against  Goal_Difference  \\\n",
      "13             20               42                   68              -26   \n",
      "15             16               42                   60              -18   \n",
      "18             22               47                  100              -53   \n",
      "27             19               34                   49              -15   \n",
      "29             29               36                   93              -57   \n",
      "..            ...              ...                  ...              ...   \n",
      "597            22               51                   68              -17   \n",
      "603            25               36                   73              -37   \n",
      "612            24               41                   78              -37   \n",
      "618            24               52                   85              -33   \n",
      "623            28               35                  104              -69   \n",
      "\n",
      "     Total_Points                 End_Status  \n",
      "13             40                  Relegated  \n",
      "15             42                  Relegated  \n",
      "18             30                  Relegated  \n",
      "27             45  Relegated After Promotion  \n",
      "29             27                  Relegated  \n",
      "..            ...                        ...  \n",
      "597            34                  Relegated  \n",
      "603            25                  Relegated  \n",
      "612            24  Relegated After Promotion  \n",
      "618            26  Relegated After Promotion  \n",
      "623            16  Relegated After Promotion  \n",
      "\n",
      "[92 rows x 11 columns]\n"
     ]
    }
   ],
   "source": [
    "#Only considering relegated teams, applying a mask to get a dataframe with only relegated teams\n",
    "mask = (Season_Summary['End_Status'] == 'Relegated') | (Season_Summary['End_Status'] == 'Relegated After Promotion')\n",
    "Relegated_Season_Summary = Season_Summary[mask]\n",
    "print(Relegated_Season_Summary)\n",
    "\n",
    "#Saving the new file as an excel document\n",
    "output_file_path = path + \"Relegated_teams.xlsx\" \n",
    "Relegated_Season_Summary.to_excel(output_file_path, index=False)\n",
    "print(f\"DataFrame saved to {output_file_path}\")"
   ]
  }
 ],
 "metadata": {
  "kernelspec": {
   "display_name": "Python [conda env:base] *",
   "language": "python",
   "name": "conda-base-py"
  },
  "language_info": {
   "codemirror_mode": {
    "name": "ipython",
    "version": 3
   },
   "file_extension": ".py",
   "mimetype": "text/x-python",
   "name": "python",
   "nbconvert_exporter": "python",
   "pygments_lexer": "ipython3",
   "version": "3.12.7"
  }
 },
 "nbformat": 4,
 "nbformat_minor": 5
}
