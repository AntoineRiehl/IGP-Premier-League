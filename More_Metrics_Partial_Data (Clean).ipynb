{
 "cells": [
  {
   "cell_type": "code",
   "execution_count": 4,
   "id": "944e6ab8-894c-441b-a3c6-0d2eba72535e",
   "metadata": {},
   "outputs": [],
   "source": [
    "import pandas as pd\n",
    "import gc\n",
    "\n",
    "path = \"../\""
   ]
  },
  {
   "cell_type": "code",
   "execution_count": 6,
   "id": "3cb49315-f21a-4574-9ba8-0e2e80314038",
   "metadata": {},
   "outputs": [
    {
     "name": "stdout",
     "output_type": "stream",
     "text": [
      "Updated Season Summary saved to C:\\Users\\antoi\\Documents\\University\\IGP\\Excel Documents\\Shots_Partial.xlsx\n"
     ]
    },
    {
     "data": {
      "text/plain": [
       "483"
      ]
     },
     "execution_count": 6,
     "metadata": {},
     "output_type": "execute_result"
    }
   ],
   "source": [
    "#Loading the Excel document\n",
    "file_path = path + \"Premier League Data Analysis.xlsx\"\n",
    "xls = pd.ExcelFile(file_path)\n",
    "\n",
    "#Loading the sheets into DataFrames\n",
    "match_data_df = pd.read_excel(xls, sheet_name=\"Match Data\")\n",
    "season_summary_df = pd.read_excel(xls, sheet_name=\"Partial Data\")\n",
    "\n",
    "#Converting the \"Date\" column to datetime in Match Data\n",
    "match_data_df[\"Date\"] = pd.to_datetime(match_data_df[\"Date\"], format=\"%d/%m/%y\", errors='coerce')\n",
    "\n",
    "#Filtering out matches before 19/08/2000\n",
    "date_threshold = pd.to_datetime(\"19/08/2000\", format=\"%d/%m/%Y\")\n",
    "match_data_df = match_data_df[match_data_df[\"Date\"] >= date_threshold]\n",
    "\n",
    "#Function to calculate Shots/ShotsOnTarget ratio for each team during a season\n",
    "def calculate_shots_ratio(season, team, match_data):\n",
    "    \n",
    "    #Filtering matches for the given season and team (home or away)\n",
    "    season_matches = match_data[match_data['Season'] == season]\n",
    "    home_matches = season_matches[season_matches['HomeTeam'] == team]\n",
    "    away_matches = season_matches[season_matches['AwayTeam'] == team]\n",
    "\n",
    "    #Calculating home and away stats\n",
    "    home_shots = home_matches['HS'].sum()  #Home Shots\n",
    "    home_shots_on_target = home_matches['HST'].sum()  #Home Shots on Target\n",
    "    away_shots = away_matches['AS'].sum()  #Away Shots\n",
    "    away_shots_on_target = away_matches['AST'].sum()  #Away Shots on Target\n",
    "\n",
    "    #Total shots and shots on target\n",
    "    total_shots = home_shots + away_shots\n",
    "    total_shots_on_target = home_shots_on_target + away_shots_on_target\n",
    "\n",
    "    #Calculating and returning the ratio (handle division by zero)\n",
    "    return total_shots_on_target / total_shots if total_shots > 0 else 0\n",
    "\n",
    "#Adding a new column for Shots/ShotsOnTarget in the season summary\n",
    "season_summary_df['Shots/ShotsOnTarget'] = 0.0\n",
    "\n",
    "#Looping through the season summary and calculate the ratio for each team\n",
    "for index, row in season_summary_df.iterrows():\n",
    "    team = row['Team']\n",
    "    season = row['Season']\n",
    "\n",
    "    #Calculating the shots ratio for this team and season\n",
    "    shots_ratio = calculate_shots_ratio(season, team, match_data_df)\n",
    "    \n",
    "    #Updating the season summary DataFrame with the calculated ratio\n",
    "    season_summary_df.at[index, 'Shots/ShotsOnTarget'] = shots_ratio\n",
    "\n",
    "#Saving the updated Season Summary back to the Excel file\n",
    "output_file_path = path + \"Shots_Partial.xlsx\"\n",
    "season_summary_df.to_excel(output_file_path, index=False)\n",
    "print(f\"Updated Season Summary saved to {output_file_path}\")\n",
    "gc.collect()"
   ]
  },
  {
   "cell_type": "code",
   "execution_count": 8,
   "id": "d4dab2fb-3b84-4d0d-9058-ee58bd4a1230",
   "metadata": {},
   "outputs": [
    {
     "name": "stdout",
     "output_type": "stream",
     "text": [
      "Updated Season Summary with Avg_Yellow_Cards/Game saved to C:\\Users\\antoi\\Documents\\University\\IGP\\Excel Documents\\Yellow_Partial.xlsx\n"
     ]
    },
    {
     "data": {
      "text/plain": [
       "653"
      ]
     },
     "execution_count": 8,
     "metadata": {},
     "output_type": "execute_result"
    }
   ],
   "source": [
    "#Function to calculate average yellow cards per game for each team during a season\n",
    "def calculate_yellow_cards_ratio(season, team, match_data):\n",
    "    \n",
    "    #Filtering matches for the given season and team (home or away)\n",
    "    season_matches = match_data[match_data['Season'] == season]\n",
    "    home_matches = season_matches[season_matches['HomeTeam'] == team]\n",
    "    away_matches = season_matches[season_matches['AwayTeam'] == team]\n",
    "\n",
    "    #Calculating total yellow cards for home and away games\n",
    "    home_yellows = home_matches['HY'].sum()  #Home Yellow Cards\n",
    "    away_yellows = away_matches['AY'].sum()  #Away Yellow Cards\n",
    "\n",
    "    #Total matches played (home + away)\n",
    "    total_matches = len(home_matches) + len(away_matches)\n",
    "\n",
    "    #Calculating and return the average yellow cards per game (handle division by zero)\n",
    "    return (home_yellows + away_yellows) / total_matches if total_matches > 0 else 0\n",
    "\n",
    "#Adding a new column for Average Yellow Cards per Game in the season summary\n",
    "season_summary_df['Avg_Yellow_Cards/Game'] = 0.0\n",
    "\n",
    "#Looping through the season summary and calculate the average yellow cards for each team\n",
    "for index, row in season_summary_df.iterrows():\n",
    "    team = row['Team']\n",
    "    season = row['Season']\n",
    "\n",
    "    #Calculating the average yellow cards per game for this team and season\n",
    "    avg_yellow_cards = calculate_yellow_cards_ratio(season, team, match_data_df)\n",
    "    \n",
    "    #Updating the season summary DataFrame with the calculated average\n",
    "    season_summary_df.at[index, 'Avg_Yellow_Cards/Game'] = avg_yellow_cards\n",
    "\n",
    "#Saving the updated Season Summary back to the Excel file\n",
    "output_file_path = path + \"Yellow_Partial.xlsx\"\n",
    "season_summary_df.to_excel(output_file_path, index=False)\n",
    "print(f\"Updated Season Summary with Avg_Yellow_Cards/Game saved to {output_file_path}\")\n",
    "gc.collect()"
   ]
  },
  {
   "cell_type": "code",
   "execution_count": 10,
   "id": "024116a6-f48c-4887-8db9-495fd99ebc6b",
   "metadata": {},
   "outputs": [
    {
     "name": "stdout",
     "output_type": "stream",
     "text": [
      "Updated Season Summary with Avg_Yellow_Cards/Game saved to C:\\Users\\antoi\\Documents\\University\\IGP\\Excel Documents\\Red_Partial.xlsx\n"
     ]
    },
    {
     "data": {
      "text/plain": [
       "695"
      ]
     },
     "execution_count": 10,
     "metadata": {},
     "output_type": "execute_result"
    }
   ],
   "source": [
    "#Function to calculate average red cards per game for each team during a season\n",
    "def calculate_red_cards_ratio(season, team, match_data):\n",
    "   \n",
    "    #Filtering matches for the given season and team (home or away)\n",
    "    season_matches = match_data[match_data['Season'] == season]\n",
    "    home_matches = season_matches[season_matches['HomeTeam'] == team]\n",
    "    away_matches = season_matches[season_matches['AwayTeam'] == team]\n",
    "\n",
    "    #Calculating total yellow cards for home and away games\n",
    "    home_reds = home_matches['HR'].sum()  #Home Red Cards\n",
    "    away_reds = away_matches['AR'].sum()  #Away Red Cards\n",
    "\n",
    "    #Total matches played (home + away)\n",
    "    total_matches = len(home_matches) + len(away_matches)\n",
    "\n",
    "    #Calculating and return the average red cards per game (handle division by zero)\n",
    "    return (home_reds + away_reds) / total_matches if total_matches > 0 else 0\n",
    "\n",
    "#Adding a new column for Average Yellow Cards per Game in the season summary\n",
    "season_summary_df['Avg_Red_Cards/Game'] = 0.0\n",
    "\n",
    "#Looping through the season summary and calculate the average yellow cards for each team\n",
    "for index, row in season_summary_df.iterrows():\n",
    "    team = row['Team']\n",
    "    season = row['Season']\n",
    "\n",
    "    #Calculating the average red cards per game for this team and season\n",
    "    avg_red_cards = calculate_red_cards_ratio(season, team, match_data_df)\n",
    "    \n",
    "    #Updating the season summary DataFrame with the calculated average\n",
    "    season_summary_df.at[index, 'Avg_Red_Cards/Game'] = avg_red_cards\n",
    "\n",
    "#Saving the updated Season Summary back to the Excel file\n",
    "output_file_path = path + \"Red_Partial.xlsx\"\n",
    "season_summary_df.to_excel(output_file_path, index=False)\n",
    "print(f\"Updated Season Summary with Avg_Red_Cards/Game saved to {output_file_path}\")\n",
    "gc.collect()"
   ]
  },
  {
   "cell_type": "code",
   "execution_count": 12,
   "id": "35c015a1-8641-405c-9660-a2abf08bda95",
   "metadata": {},
   "outputs": [
    {
     "name": "stdout",
     "output_type": "stream",
     "text": [
      "Updated Season Summary with new stats saved to C:\\Users\\antoi\\Documents\\University\\IGP\\Excel Documents\\Stats_Partial-HTR.xlsx\n"
     ]
    }
   ],
   "source": [
    "#Function to calculate percentage of wins based on conditions\n",
    "def calculate_percentage(matches, condition_col, result_value):\n",
    "    total_matches = len(matches)\n",
    "    if total_matches == 0:\n",
    "        return 0  # Avoid division by zero\n",
    "    wins = len(matches[matches[condition_col] == result_value])\n",
    "    return (wins / total_matches) * 100\n",
    "\n",
    "#Adding new columns for the 6 stats in the season summary dataframe\n",
    "season_summary_df['Home_Win_Leading_HT(%)'] = 0.0\n",
    "season_summary_df['Away_Win_Leading_HT(%)'] = 0.0\n",
    "season_summary_df['Home_Win_Draw_HT(%)'] = 0.0\n",
    "season_summary_df['Away_Win_Draw_HT(%)'] = 0.0\n",
    "season_summary_df['Home_Win_Losing_HT(%)'] = 0.0\n",
    "season_summary_df['Away_Win_Losing_HT(%)'] = 0.0\n",
    "\n",
    "#Looping through the season summary and calculate percentages for each team\n",
    "for index, row in season_summary_df.iterrows():\n",
    "    team = row['Team']\n",
    "    season = row['Season']\n",
    "    \n",
    "    #Filtering match data for the current season\n",
    "    season_matches = match_data_df[match_data_df['Season'] == season]\n",
    "    \n",
    "    #Condition 1: Team is home, winning at HT (HTR == 'H') and winning at FT (FTR == 'H')\n",
    "    home_leading_ht = season_matches[(season_matches['HomeTeam'] == team) & (season_matches['HTR'] == 'H')]\n",
    "    season_summary_df.at[index, 'Home_Win_Leading_HT(%)'] = calculate_percentage(home_leading_ht, 'FTR', 'H')\n",
    "    \n",
    "    #Condition 2: Team is away, winning at HT (HTR == 'A') and winning at FT (FTR == 'A')\n",
    "    away_leading_ht = season_matches[(season_matches['AwayTeam'] == team) & (season_matches['HTR'] == 'A')]\n",
    "    season_summary_df.at[index, 'Away_Win_Leading_HT(%)'] = calculate_percentage(away_leading_ht, 'FTR', 'A')\n",
    "    \n",
    "    #Condition 3: Team is home, draw at HT (HTR == 'D') and winning at FT (FTR == 'H')\n",
    "    home_draw_ht = season_matches[(season_matches['HomeTeam'] == team) & (season_matches['HTR'] == 'D')]\n",
    "    season_summary_df.at[index, 'Home_Win_Draw_HT(%)'] = calculate_percentage(home_draw_ht, 'FTR', 'H')\n",
    "    \n",
    "    #Condition 4: Team is away, draw at HT (HTR == 'D') and winning at FT (FTR == 'A')\n",
    "    away_draw_ht = season_matches[(season_matches['AwayTeam'] == team) & (season_matches['HTR'] == 'D')]\n",
    "    season_summary_df.at[index, 'Away_Win_Draw_HT(%)'] = calculate_percentage(away_draw_ht, 'FTR', 'A')\n",
    "    \n",
    "    #Condition 5: Team is home, losing at HT (HTR == 'A') and winning at FT (FTR == 'H')\n",
    "    home_losing_ht = season_matches[(season_matches['HomeTeam'] == team) & (season_matches['HTR'] == 'A')]\n",
    "    season_summary_df.at[index, 'Home_Win_Losing_HT(%)'] = calculate_percentage(home_losing_ht, 'FTR', 'H')\n",
    "    \n",
    "    #Condition 6: Team is away, losing at HT (HTR == 'H') and winning at FT (FTR == 'A')\n",
    "    away_losing_ht = season_matches[(season_matches['AwayTeam'] == team) & (season_matches['HTR'] == 'H')]\n",
    "    season_summary_df.at[index, 'Away_Win_Losing_HT(%)'] = calculate_percentage(away_losing_ht, 'FTR', 'A')\n",
    "\n",
    "#Saving the updated Season Summary back to the Excel file\n",
    "output_file_path = path + \"Stats_Partial-HTR.xlsx\"\n",
    "season_summary_df.to_excel(output_file_path, index=False)\n",
    "print(f\"Updated Season Summary with new stats saved to {output_file_path}\")"
   ]
  },
  {
   "cell_type": "code",
   "execution_count": 16,
   "id": "c38903e3-f6b2-41bd-88ec-12c4d49124cc",
   "metadata": {},
   "outputs": [],
   "source": [
    "team_abbreviation_dict = {\n",
    "    'NFO': \"Nott'm Forest\",\n",
    "    'CHE': 'Chelsea',\n",
    "    'TOT': 'Tottenham',\n",
    "    'CRY': 'Crystal Palace',\n",
    "    'SWN': 'Swansea',\n",
    "    'MCI': 'Man City',\n",
    "    'EVE': 'Everton',\n",
    "    'COV': 'Coventry',\n",
    "    'NOR': 'Norwich',\n",
    "    'SOU': 'Southampton',\n",
    "    'LIV': 'Liverpool',\n",
    "    'WHU': 'West Ham',\n",
    "    'QPR': 'QPR',\n",
    "    'LEI': 'Leicester',\n",
    "    'AVL': 'Aston Villa',\n",
    "    'IPS': 'Ipswich',\n",
    "    'ARS': 'Arsenal',\n",
    "    'BLB': 'Blackburn',\n",
    "    'BOL': 'Bolton',\n",
    "    'LEE': 'Leeds',\n",
    "    'NEW': 'Newcastle',\n",
    "    'SHW': 'Sheffield Weds',\n",
    "    'WIM': 'Wimbledon',\n",
    "    'BRC': 'Bristol',\n",
    "    'MID': 'Middlesbrough',\n",
    "    'DER': 'Derby',\n",
    "    'SUN': 'Sunderland',\n",
    "    'FUL': 'Fulham',\n",
    "    'WBA': 'West Bromwich Albion',\n",
    "    'POR': 'Portsmouth',\n",
    "    'CHA': 'Charlton',\n",
    "    'WIG': 'Wigan',\n",
    "    'BIR': 'Birmingham',\n",
    "    'BUR': 'Burnley',\n",
    "    'HUL': 'Hull',\n",
    "    'WOL': 'Wolves',\n",
    "    'SWA': 'Swansea',\n",
    "    'REA': 'Reading',\n",
    "    'STO': 'Stoke',\n",
    "    'MUN': 'Man United',\n",
    "    'CAR': 'Cardiff',\n",
    "    'WAT': 'Watford',\n",
    "    'HUD': 'Huddersfield',\n",
    "    'BRI': 'Brighton',\n",
    "    'SHU': 'Sheffield United',\n",
    "    'BOU': 'Bournemouth'\n",
    "}"
   ]
  },
  {
   "cell_type": "code",
   "execution_count": 18,
   "id": "2b59fe23-9bda-4348-b066-fffbfaa0f61e",
   "metadata": {},
   "outputs": [
    {
     "name": "stdout",
     "output_type": "stream",
     "text": [
      "        Season Team                 Date             Manager Out  \\\n",
      "0    1992-1993  NaN  1993-08-05 00:00:00            Brian Clough   \n",
      "1    1992-1993  NaN            15/2/1993         Ian Porterfield   \n",
      "2    1992-1993  NaN            30/6/1993              David Webb   \n",
      "3    1992-1993  NaN            19/6/1993  D.Livermore/R.Clemence   \n",
      "4    1992-1993  NaN            17/5/1993           Steve Coppell   \n",
      "..         ...  ...                  ...                     ...   \n",
      "405  2024-2025  NaN           15/12/2024          Russell Martin   \n",
      "406  2024-2025  NaN           22/12/2024             Simon Rusk*   \n",
      "407  2024-2025  NaN  2025-08-01 00:00:00         Julen Lopetegui   \n",
      "408  2024-2025  NaN  2025-09-01 00:00:00              Sean Dyche   \n",
      "409  2024-2025  NaN  2025-10-01 00:00:00        Leighton Baines*   \n",
      "\n",
      "           Manager In  Days in Charge  # manager changes so far Relegated Y/N  \\\n",
      "0         Frank Clark            6700                         1             Y   \n",
      "1          David Webb             595                         1             N   \n",
      "2        Glenn Hoddle            3209                         2             N   \n",
      "3     Osvaldo Ardiles             388                         1             N   \n",
      "4          Alan Smith             134                         1             Y   \n",
      "..                ...             ...                       ...           ...   \n",
      "405       SImon Rusk*             533                         1           NAN   \n",
      "406        Ivan Juric               7                         2           NAN   \n",
      "407     Graham Potter             191                         1           NAN   \n",
      "408  Leighton Baines*             710                         1           NAN   \n",
      "409       David Moyes               1                         2           NAN   \n",
      "\n",
      "    Time of Change (B/M/E)  \n",
      "0                        M  \n",
      "1                        M  \n",
      "2                        E  \n",
      "3                        E  \n",
      "4                        E  \n",
      "..                     ...  \n",
      "405                      M  \n",
      "406                      M  \n",
      "407                      M  \n",
      "408                      M  \n",
      "409                      M  \n",
      "\n",
      "[410 rows x 9 columns]\n"
     ]
    }
   ],
   "source": [
    "abbreviation_to_name = team_abbreviation_dict\n",
    "full_names_df = pd.read_excel(file_path, sheet_name=\"Season Summary\")\n",
    "abbreviations_df = pd.read_excel(file_path, sheet_name=\"Manager Changes\")\n",
    "\n",
    "#Replacing abbreviations in the 'Abbreviation' column with full team names using map()\n",
    "abbreviations_df['Team'] = abbreviations_df['Team'].map(abbreviation_to_name)\n",
    "\n",
    "#Saving the updated DataFrame back to Excel\n",
    "output_file_path = path + \"updated_premier_league_data.xlsx\"\n",
    "abbreviations_df.to_excel(output_file_path, index=False)\n",
    "print(f\"Updated data saved to {output_file_path}\")\n",
    "print(abbreviations_df)"
   ]
  },
  {
   "cell_type": "code",
   "execution_count": 20,
   "id": "f97ed66d-725e-4f7f-ae80-ef2ebae534cd",
   "metadata": {},
   "outputs": [],
   "source": [
    "#Function to convert 'YYYY/YY' format to 'YYYY-YYYY'\n",
    "def convert_season_format(season):\n",
    "    parts = season.split('/')\n",
    "    if len(parts) == 2:\n",
    "        start_year = parts[0]\n",
    "        end_year = str(int(parts[0]) + 1) if len(parts[1]) == 2 else parts[1]\n",
    "        return f\"{start_year}-{end_year}\"\n",
    "    return season\n",
    "\n",
    "#Applying the conversion function to the column with the 'YYYY/YY' format\n",
    "abbreviations_df['Season'] = abbreviations_df['Season'].apply(convert_season_format)\n",
    "\n",
    "#Saving the updated DataFrame back to Excel (optional)\n",
    "output_file_path = path +\"updated_season_format.xlsx\"\n",
    "abbreviations_df.to_excel(output_file_path, index=False)"
   ]
  },
  {
   "cell_type": "code",
   "execution_count": 22,
   "id": "e95bef01-08a9-42c2-9f51-4f42cf090684",
   "metadata": {},
   "outputs": [
    {
     "name": "stdout",
     "output_type": "stream",
     "text": [
      "0     0\n",
      "1     0\n",
      "2     0\n",
      "3     0\n",
      "4     0\n",
      "5     0\n",
      "6     0\n",
      "7     2\n",
      "8     0\n",
      "9     0\n",
      "10    2\n",
      "11    0\n",
      "12    0\n",
      "13    2\n",
      "14    0\n",
      "15    0\n",
      "16    2\n",
      "17    0\n",
      "18    1\n",
      "19    1\n",
      "Name: Manager Changes, dtype: int32\n",
      "The Season Summary sheet has been successfully updated with manager change counts.\n"
     ]
    }
   ],
   "source": [
    "#Reading the Manager Changes sheet and Season Summary sheet\n",
    "manager_changes_df = pd.read_excel(file_path, sheet_name=\"Manager Changes\")\n",
    "season_summary_df = pd.read_excel(file_path, sheet_name=\"Partial Data\")\n",
    "\n",
    "#Counting the number of manager changes per team per season\n",
    "manager_changes_count = manager_changes_df.groupby(['Season', 'Team']).size().reset_index(name='Manager Changes')\n",
    "\n",
    "#Merging the counts into the Season Summary sheet\n",
    "season_summary_df = season_summary_df.merge(\n",
    "    manager_changes_count, \n",
    "    how='left', \n",
    "    left_on=['Season', 'Team'], \n",
    "    right_on=['Season', 'Team']\n",
    ")\n",
    "\n",
    "#Replacing NaN values with 0 (for teams with no manager changes)\n",
    "season_summary_df['Manager Changes'] = season_summary_df['Manager Changes'].fillna(0).astype(int)\n",
    "\n",
    "#Checking resulting column and saving back to the excel document\n",
    "print(season_summary_df['Manager Changes'])\n",
    "output_file_path = path +\"manager_changes_counts_Partial.xlsx\"\n",
    "season_summary_df.to_excel(output_file_path, index=False)\n",
    "print(\"The Season Summary sheet has been successfully updated with manager change counts.\")"
   ]
  },
  {
   "cell_type": "code",
   "execution_count": 24,
   "id": "e720d493-3eb5-49b3-b2e2-d8ee6eeb05c6",
   "metadata": {},
   "outputs": [
    {
     "name": "stdout",
     "output_type": "stream",
     "text": [
      "The Season Summary sheet has been successfully updated with manager change counts.\n"
     ]
    }
   ],
   "source": [
    "#Filtering for rows where \"Manager Out\" or \"Manager In\" contains '*', indicating caretaker managers\n",
    "caretaker_changes_df = manager_changes_df[\n",
    "    manager_changes_df['Manager Out'].str.contains(r'\\*', na=False) \n",
    "]\n",
    "\n",
    "#Summing up the \"Days in Charge\" for caretaker managers for each team and season\n",
    "caretaker_days = caretaker_changes_df.groupby(['Season', 'Team'])['Days in Charge'].sum().reset_index(name='Caretaker Days')\n",
    "\n",
    "#Merging the caretaker days into the Season Summary sheet\n",
    "season_summary_df = season_summary_df.merge(\n",
    "    caretaker_days, \n",
    "    how='left', \n",
    "    left_on=['Season', 'Team'], \n",
    "    right_on=['Season', 'Team']\n",
    ")\n",
    "\n",
    "#Replacing NaN values with 0 (for teams with no caretaker managers)\n",
    "season_summary_df['Caretaker Days'] = season_summary_df['Caretaker Days'].fillna(0).astype(int)\n",
    "\n",
    "#Saving the data into a new column in the \"Season Summary\" sheet\n",
    "output_file_path = path +\"caretaker_days_Partial.xlsx\"\n",
    "season_summary_df.to_excel(output_file_path, index=False)\n",
    "print(\"The Season Summary sheet has been successfully updated with manager change counts.\")"
   ]
  },
  {
   "cell_type": "code",
   "execution_count": 26,
   "id": "5a10d916-832c-493f-9729-0d68ed8d3e6b",
   "metadata": {},
   "outputs": [
    {
     "name": "stdout",
     "output_type": "stream",
     "text": [
      "The Season Summary sheet has been successfully updated with team ranks.\n"
     ]
    }
   ],
   "source": [
    "#Ranking teams based on Total_Points first\n",
    "season_summary_df['Rank'] = season_summary_df.groupby('Season')['Total_Points'] \\\n",
    "    .rank(method='min', ascending=False)\n",
    "\n",
    "#Saving the newly created \"Rank\" column\n",
    "output_file_path = path +\"ranksperseason.xlsx\"\n",
    "season_summary_df.to_excel(output_file_path, index=False)\n",
    "print(\"The Season Summary sheet has been successfully updated with team ranks.\")"
   ]
  },
  {
   "cell_type": "code",
   "execution_count": 8,
   "id": "39f4b0b5-b978-4f02-b517-9f954cdcef6b",
   "metadata": {},
   "outputs": [
    {
     "name": "stdout",
     "output_type": "stream",
     "text": [
      "The Season Summary sheet has been successfully updated with the total corners per team.\n"
     ]
    }
   ],
   "source": [
    "#Loading the sheets into dataframes\n",
    "match_data_df = pd.read_excel(xls, sheet_name=\"Match Data\")\n",
    "season_summary_df = pd.read_excel(xls, sheet_name=\"Partial Data\")\n",
    "\n",
    "#Defining a function to determine the season from a match date\n",
    "def get_season_from_date(date_str):\n",
    "    \n",
    "    #Converting the string date to a datetime object\n",
    "    date = pd.to_datetime(date_str, format='%d/%m/%y')\n",
    "    \n",
    "    #Getting the year and month\n",
    "    year = date.year\n",
    "    month = date.month\n",
    "    \n",
    "    #If the match is played after July, it's part of the next season\n",
    "    if month >= 7:\n",
    "        season = f\"{year}-{year+1}\"\n",
    "    else:\n",
    "        season = f\"{year-1}-{year}\"\n",
    "    \n",
    "    return season\n",
    "\n",
    "#Applying the function to create a \"Season\" column in the match_data_df\n",
    "match_data_df['Season'] = match_data_df['Date'].apply(get_season_from_date)\n",
    "\n",
    "#Initialising a dictionary to store total corners for each team in each season\n",
    "team_corner_dict = {}\n",
    "\n",
    "#Processing each row of the season summary\n",
    "for index, row in season_summary_df.iterrows():\n",
    "    team = row['Team']\n",
    "    season = row['Season']\n",
    "    \n",
    "    #Filtering the match data for the relevant season and the team\n",
    "    team_matches = match_data_df[(match_data_df['Season'] == season) & \n",
    "                                 ((match_data_df['HomeTeam'] == team) | (match_data_df['AwayTeam'] == team))]\n",
    "    \n",
    "    #Calculating the total corners for the team in that season\n",
    "    total_corners = 0\n",
    "    for _, match in team_matches.iterrows():\n",
    "        if match['HomeTeam'] == team:\n",
    "            total_corners += match['HC']  #Home Corners\n",
    "        else:\n",
    "            total_corners += match['AC']  #Away Corners\n",
    "    \n",
    "    #Storing the total corners for the team in that season\n",
    "    team_corner_dict[(team, season)] = total_corners\n",
    "\n",
    "#Adding the total corners as a new column in the season summary dataframe\n",
    "season_summary_df['Total_Corners'] = season_summary_df.apply(lambda row: team_corner_dict.get((row['Team'], row['Season']), 0), axis=1)\n",
    "\n",
    "#Saving the newly created \"Total_Corners\" column\n",
    "output_file_path = path +\"corners.xlsx\"\n",
    "season_summary_df.to_excel(output_file_path, index=False)\n",
    "print(\"The Season Summary sheet has been successfully updated with the total corners per team.\")"
   ]
  }
 ],
 "metadata": {
  "kernelspec": {
   "display_name": "Python [conda env:base] *",
   "language": "python",
   "name": "conda-base-py"
  },
  "language_info": {
   "codemirror_mode": {
    "name": "ipython",
    "version": 3
   },
   "file_extension": ".py",
   "mimetype": "text/x-python",
   "name": "python",
   "nbconvert_exporter": "python",
   "pygments_lexer": "ipython3",
   "version": "3.12.7"
  }
 },
 "nbformat": 4,
 "nbformat_minor": 5
}
